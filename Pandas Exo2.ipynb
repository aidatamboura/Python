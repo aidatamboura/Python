{
 "cells": [
  {
   "cell_type": "markdown",
   "metadata": {},
   "source": [
    "# EXERCICE2"
   ]
  },
  {
   "cell_type": "code",
   "execution_count": 3,
   "metadata": {
    "collapsed": true
   },
   "outputs": [],
   "source": [
    "import pandas as pd"
   ]
  },
  {
   "cell_type": "code",
   "execution_count": 5,
   "metadata": {
    "collapsed": false
   },
   "outputs": [
    {
     "data": {
      "text/plain": [
       "ARI                   Automatique et Robotique Industrielle\n",
       "ASR                    Architecture et Sécurité des Réseaux\n",
       "BDTN              Big Data pour la Transformation Numérique\n",
       "EDD                        Énergie et Développement Durable\n",
       "ESAA      Electronique des Systèmes pour Automobile et A...\n",
       "GET                           Génie Electrique et Transport\n",
       "IA DES    Ingénieur Affaires distribution Énergie et Sig...\n",
       "IA IR            Ingénieur Affaires Informatique et Réseaux\n",
       "ICOM                                     Ingénierie Télécom\n",
       "IF                                        Ingénieur Finance\n",
       "ISE OC    Ingénierie des Systèmes Embarqués Objets Commu...\n",
       "ISE VA    Ingénierie des Systèmes Embarqués Véhicule Aut...\n",
       "ISN                    Ingénierie des Services du Numérique\n",
       "ISYMED                     Ingénierie des Systèmes Médicaux\n",
       "MCTGE                         Mécatronique Génie Électrique\n",
       "dtype: object"
      ]
     },
     "execution_count": 5,
     "metadata": {},
     "output_type": "execute_result"
    }
   ],
   "source": [
    "Dominante= pd.Series({'BDTN' : 'Big Data pour la Transformation Numérique' ,'ASR' : 'Architecture et Sécurité des Réseaux','IA IR' : 'Ingénieur Affaires Informatique et Réseaux', 'ISN' : 'Ingénierie des Services du Numérique', 'EDD': 'Énergie et Développement Durable', 'IF' : 'Ingénieur Finance','ESAA' : 'Electronique des Systèmes pour Automobile et Aéroespace', 'GET': 'Génie Electrique et Transport', 'ICOM' : 'Ingénierie Télécom', 'ARI' : 'Automatique et Robotique Industrielle' , 'IA DES' :  'Ingénieur Affaires distribution Énergie et Signaux' , 'MCTGE' : 'Mécatronique Génie Électrique', 'ISE VA' : 'Ingénierie des Systèmes Embarqués Véhicule Autonome' , 'ISE OC' : 'Ingénierie des Systèmes Embarqués Objets Communicants' , 'ISYMED' : 'Ingénierie des Systèmes Médicaux'})\n",
    "Dominante"
   ]
  },
  {
   "cell_type": "code",
   "execution_count": 6,
   "metadata": {
    "collapsed": false
   },
   "outputs": [
    {
     "data": {
      "text/plain": [
       "ARI                             Génie électrique et énergie\n",
       "ASR        Technologies de l`information et de la commun...\n",
       "BDTN      Technologies de l`information et de la communi...\n",
       "EDD                             Génie électrique et énergie\n",
       "ESAA                     électronique et télécommunications\n",
       "GET                             Génie électrique et énergie\n",
       "IA DES                          Génie électrique et énergie\n",
       "IA IR                         Technologies de l’information\n",
       "ICOM                     électronique et télécommunications\n",
       "IF                                            Communication\n",
       "ISE OC                Systèmes Embarqués et Instrumentation\n",
       "ISE VA                Systèmes Embarqués et Instrumentation\n",
       "ISN                           Technologies de l’information\n",
       "ISYMED                 Systèmes Embarquéset Instrumentation\n",
       "MCTGE                 Systèmes Embarqués et Instrumentation\n",
       "dtype: object"
      ]
     },
     "execution_count": 6,
     "metadata": {},
     "output_type": "execute_result"
    }
   ],
   "source": [
    "Departement= pd.Series({'ARI' : ' Génie électrique et énergie' , 'ASR' : ' Technologies de l`information et de la communication','BDTN' : 'Technologies de l`information et de la communication','EDD' : 'Génie électrique et énergie', 'ESAA' : 'électronique et télécommunications' , 'GET' : 'Génie électrique et énergie','IA DES' : 'Génie électrique et énergie' , 'IA IR' : 'Technologies de l’information' ,'ICOM' : 'électronique et télécommunications', 'IF' : 'Communication', 'ISE OC' : 'Systèmes Embarqués et Instrumentation', 'ISE VA' : 'Systèmes Embarqués et Instrumentation', 'ISN' : 'Technologies de l’information','ISYMED': 'Systèmes Embarquéset Instrumentation','MCTGE' : 'Systèmes Embarqués et Instrumentation' })\n",
    "Departement"
   ]
  },
  {
   "cell_type": "code",
   "execution_count": 8,
   "metadata": {
    "collapsed": false
   },
   "outputs": [
    {
     "data": {
      "text/html": [
       "<div>\n",
       "<table border=\"1\" class=\"dataframe\">\n",
       "  <thead>\n",
       "    <tr style=\"text-align: right;\">\n",
       "      <th></th>\n",
       "      <th>ARI</th>\n",
       "      <th>ASR</th>\n",
       "      <th>BDTN</th>\n",
       "      <th>EDD</th>\n",
       "      <th>ESAA</th>\n",
       "      <th>GET</th>\n",
       "      <th>IA DES</th>\n",
       "      <th>IA IR</th>\n",
       "      <th>ICOM</th>\n",
       "      <th>IF</th>\n",
       "      <th>ISE OC</th>\n",
       "      <th>ISE VA</th>\n",
       "      <th>ISN</th>\n",
       "      <th>ISYMED</th>\n",
       "      <th>MCTGE</th>\n",
       "    </tr>\n",
       "  </thead>\n",
       "  <tbody>\n",
       "    <tr>\n",
       "      <th>Nom complet de la dominante</th>\n",
       "      <td>Automatique et Robotique Industrielle</td>\n",
       "      <td>Architecture et Sécurité des Réseaux</td>\n",
       "      <td>Big Data pour la Transformation Numérique</td>\n",
       "      <td>Énergie et Développement Durable</td>\n",
       "      <td>Electronique des Systèmes pour Automobile et A...</td>\n",
       "      <td>Génie Electrique et Transport</td>\n",
       "      <td>Ingénieur Affaires distribution Énergie et Sig...</td>\n",
       "      <td>Ingénieur Affaires Informatique et Réseaux</td>\n",
       "      <td>Ingénierie Télécom</td>\n",
       "      <td>Ingénieur Finance</td>\n",
       "      <td>Ingénierie des Systèmes Embarqués Objets Commu...</td>\n",
       "      <td>Ingénierie des Systèmes Embarqués Véhicule Aut...</td>\n",
       "      <td>Ingénierie des Services du Numérique</td>\n",
       "      <td>Ingénierie des Systèmes Médicaux</td>\n",
       "      <td>Mécatronique Génie Électrique</td>\n",
       "    </tr>\n",
       "    <tr>\n",
       "      <th>Département</th>\n",
       "      <td>Génie électrique et énergie</td>\n",
       "      <td>Technologies de l`information et de la commun...</td>\n",
       "      <td>Technologies de l`information et de la communi...</td>\n",
       "      <td>Génie électrique et énergie</td>\n",
       "      <td>électronique et télécommunications</td>\n",
       "      <td>Génie électrique et énergie</td>\n",
       "      <td>Génie électrique et énergie</td>\n",
       "      <td>Technologies de l’information</td>\n",
       "      <td>électronique et télécommunications</td>\n",
       "      <td>Communication</td>\n",
       "      <td>Systèmes Embarqués et Instrumentation</td>\n",
       "      <td>Systèmes Embarqués et Instrumentation</td>\n",
       "      <td>Technologies de l’information</td>\n",
       "      <td>Systèmes Embarquéset Instrumentation</td>\n",
       "      <td>Systèmes Embarqués et Instrumentation</td>\n",
       "    </tr>\n",
       "  </tbody>\n",
       "</table>\n",
       "</div>"
      ],
      "text/plain": [
       "                                                               ARI  \\\n",
       "Nom complet de la dominante  Automatique et Robotique Industrielle   \n",
       "Département                            Génie électrique et énergie   \n",
       "\n",
       "                                                                           ASR  \\\n",
       "Nom complet de la dominante               Architecture et Sécurité des Réseaux   \n",
       "Département                   Technologies de l`information et de la commun...   \n",
       "\n",
       "                                                                          BDTN  \\\n",
       "Nom complet de la dominante          Big Data pour la Transformation Numérique   \n",
       "Département                  Technologies de l`information et de la communi...   \n",
       "\n",
       "                                                          EDD  \\\n",
       "Nom complet de la dominante  Énergie et Développement Durable   \n",
       "Département                       Génie électrique et énergie   \n",
       "\n",
       "                                                                          ESAA  \\\n",
       "Nom complet de la dominante  Electronique des Systèmes pour Automobile et A...   \n",
       "Département                                 électronique et télécommunications   \n",
       "\n",
       "                                                       GET  \\\n",
       "Nom complet de la dominante  Génie Electrique et Transport   \n",
       "Département                    Génie électrique et énergie   \n",
       "\n",
       "                                                                        IA DES  \\\n",
       "Nom complet de la dominante  Ingénieur Affaires distribution Énergie et Sig...   \n",
       "Département                                        Génie électrique et énergie   \n",
       "\n",
       "                                                                  IA IR  \\\n",
       "Nom complet de la dominante  Ingénieur Affaires Informatique et Réseaux   \n",
       "Département                               Technologies de l’information   \n",
       "\n",
       "                                                           ICOM  \\\n",
       "Nom complet de la dominante                  Ingénierie Télécom   \n",
       "Département                  électronique et télécommunications   \n",
       "\n",
       "                                            IF  \\\n",
       "Nom complet de la dominante  Ingénieur Finance   \n",
       "Département                      Communication   \n",
       "\n",
       "                                                                        ISE OC  \\\n",
       "Nom complet de la dominante  Ingénierie des Systèmes Embarqués Objets Commu...   \n",
       "Département                              Systèmes Embarqués et Instrumentation   \n",
       "\n",
       "                                                                        ISE VA  \\\n",
       "Nom complet de la dominante  Ingénierie des Systèmes Embarqués Véhicule Aut...   \n",
       "Département                              Systèmes Embarqués et Instrumentation   \n",
       "\n",
       "                                                              ISN  \\\n",
       "Nom complet de la dominante  Ingénierie des Services du Numérique   \n",
       "Département                         Technologies de l’information   \n",
       "\n",
       "                                                           ISYMED  \\\n",
       "Nom complet de la dominante      Ingénierie des Systèmes Médicaux   \n",
       "Département                  Systèmes Embarquéset Instrumentation   \n",
       "\n",
       "                                                             MCTGE  \n",
       "Nom complet de la dominante          Mécatronique Génie Électrique  \n",
       "Département                  Systèmes Embarqués et Instrumentation  "
      ]
     },
     "execution_count": 8,
     "metadata": {},
     "output_type": "execute_result"
    }
   ],
   "source": [
    "dt = pd.DataFrame([Dominante, Departement], index = ['Nom complet de la dominante' , 'Département' ])\n",
    "dt"
   ]
  },
  {
   "cell_type": "code",
   "execution_count": 9,
   "metadata": {
    "collapsed": false
   },
   "outputs": [
    {
     "data": {
      "text/plain": [
       "Departement    TIC : Technologies de l`information et de la c...\n",
       "Dominante                                                   BDTN\n",
       "Nom                                                     TAMBOURA\n",
       "Prenom                                                      Aida\n",
       "dtype: object"
      ]
     },
     "execution_count": 9,
     "metadata": {},
     "output_type": "execute_result"
    }
   ],
   "source": [
    "pingP1= pd.Series ({'Nom': 'TAMBOURA' , 'Prenom': 'Aida' , 'Dominante' : 'BDTN' , \n",
    "                    'Departement' : 'TIC : Technologies de l`information et de la communication'})\n",
    "pingP1"
   ]
  },
  {
   "cell_type": "code",
   "execution_count": 10,
   "metadata": {
    "collapsed": false
   },
   "outputs": [
    {
     "data": {
      "text/plain": [
       "Departement    GET : Génie électrique et énergie\n",
       "Dominante                                 IA DES\n",
       "Nom                                       ARNAUD\n",
       "Prenom                                 Alexandre\n",
       "dtype: object"
      ]
     },
     "execution_count": 10,
     "metadata": {},
     "output_type": "execute_result"
    }
   ],
   "source": [
    "pingP2= pd.Series ({'Nom': 'ARNAUD' , 'Prenom': 'Alexandre' , 'Dominante' : 'IA DES', \n",
    "                    'Departement' : 'GET : Génie électrique et énergie'})\n",
    "pingP2"
   ]
  },
  {
   "cell_type": "code",
   "execution_count": 11,
   "metadata": {
    "collapsed": false
   },
   "outputs": [
    {
     "data": {
      "text/plain": [
       "Departement    TIC : Technologies de l`information et de la c...\n",
       "Dominante                                                   BDTN\n",
       "Nom                                                     JOUJOUTE\n",
       "Prenom                                               Jean-Benoit\n",
       "dtype: object"
      ]
     },
     "execution_count": 11,
     "metadata": {},
     "output_type": "execute_result"
    }
   ],
   "source": [
    "pingP3= pd.Series ({'Nom': 'JOUJOUTE' , 'Prenom': 'Jean-Benoit' , 'Dominante' : 'BDTN' , \n",
    "                    'Departement' : 'TIC : Technologies de l`information et de la communication'})\n",
    "pingP3"
   ]
  },
  {
   "cell_type": "code",
   "execution_count": 17,
   "metadata": {
    "collapsed": false
   },
   "outputs": [
    {
     "data": {
      "text/plain": [
       "Departement    TIC : Technologies de l`information et de la c...\n",
       "Dominante                                                   BDTN\n",
       "Nom                                                    MIKPONWAY\n",
       "Prenom                                                       Ian\n",
       "dtype: object"
      ]
     },
     "execution_count": 17,
     "metadata": {},
     "output_type": "execute_result"
    }
   ],
   "source": [
    "pingP4= pd.Series ({'Nom': 'MIKPONWAY' , 'Prenom': 'Ian' , 'Dominante' : 'BDTN' ,'Departement' : 'TIC : Technologies de l`information et de la communication'})\n",
    "pingP4"
   ]
  },
  {
   "cell_type": "code",
   "execution_count": 16,
   "metadata": {
    "collapsed": false
   },
   "outputs": [
    {
     "data": {
      "text/plain": [
       "Departement    TIC : Technologies de l`information et de la c...\n",
       "Dominante                                                    ISN\n",
       "Nom                                                     DA SILVA\n",
       "Prenom                                                   Saobane\n",
       "dtype: object"
      ]
     },
     "execution_count": 16,
     "metadata": {},
     "output_type": "execute_result"
    }
   ],
   "source": [
    "pingP5= pd.Series ({'Nom': 'DA SILVA' , 'Prenom': 'Saobane' , 'Dominante' : 'ISN' ,\n",
    "                    'Departement' : 'TIC : Technologies de l`information et de la communication'})\n",
    "pingP5"
   ]
  },
  {
   "cell_type": "code",
   "execution_count": 19,
   "metadata": {
    "collapsed": false
   },
   "outputs": [
    {
     "data": {
      "text/plain": [
       "Departement    GET : Génie électrique et énergie\n",
       "Dominante                                    GET\n",
       "Nom                                   HOUNSONLON\n",
       "Prenom                                   Maickel\n",
       "dtype: object"
      ]
     },
     "execution_count": 19,
     "metadata": {},
     "output_type": "execute_result"
    }
   ],
   "source": [
    "pingP6= pd.Series ({'Nom': 'HOUNSONLON' , 'Prenom': 'Maickel' , 'Dominante' : 'GET',\n",
    "                    'Departement' : 'GET : Génie électrique et énergie'})\n",
    "pingP6"
   ]
  },
  {
   "cell_type": "code",
   "execution_count": 22,
   "metadata": {
    "collapsed": false
   },
   "outputs": [
    {
     "data": {
      "text/html": [
       "<div>\n",
       "<table border=\"1\" class=\"dataframe\">\n",
       "  <thead>\n",
       "    <tr style=\"text-align: right;\">\n",
       "      <th></th>\n",
       "      <th>Departement</th>\n",
       "      <th>Dominante</th>\n",
       "      <th>Nom</th>\n",
       "      <th>Prenom</th>\n",
       "    </tr>\n",
       "  </thead>\n",
       "  <tbody>\n",
       "    <tr>\n",
       "      <th>Membre n°1</th>\n",
       "      <td>TIC : Technologies de l`information et de la c...</td>\n",
       "      <td>BDTN</td>\n",
       "      <td>TAMBOURA</td>\n",
       "      <td>Aida</td>\n",
       "    </tr>\n",
       "    <tr>\n",
       "      <th>Membre n°2</th>\n",
       "      <td>GET : Génie électrique et énergie</td>\n",
       "      <td>IA DES</td>\n",
       "      <td>ARNAUD</td>\n",
       "      <td>Alexandre</td>\n",
       "    </tr>\n",
       "    <tr>\n",
       "      <th>Membre n°3</th>\n",
       "      <td>TIC : Technologies de l`information et de la c...</td>\n",
       "      <td>BDTN</td>\n",
       "      <td>JOUJOUTE</td>\n",
       "      <td>Jean-Benoit</td>\n",
       "    </tr>\n",
       "    <tr>\n",
       "      <th>Membre n°4</th>\n",
       "      <td>TIC : Technologies de l`information et de la c...</td>\n",
       "      <td>BDTN</td>\n",
       "      <td>MIKPONWAY</td>\n",
       "      <td>Ian</td>\n",
       "    </tr>\n",
       "    <tr>\n",
       "      <th>Membre n°5</th>\n",
       "      <td>TIC : Technologies de l`information et de la c...</td>\n",
       "      <td>ISN</td>\n",
       "      <td>DA SILVA</td>\n",
       "      <td>Saobane</td>\n",
       "    </tr>\n",
       "    <tr>\n",
       "      <th>Membre n°6</th>\n",
       "      <td>GET : Génie électrique et énergie</td>\n",
       "      <td>GET</td>\n",
       "      <td>HOUNSONLON</td>\n",
       "      <td>Maickel</td>\n",
       "    </tr>\n",
       "  </tbody>\n",
       "</table>\n",
       "</div>"
      ],
      "text/plain": [
       "                                                  Departement Dominante  \\\n",
       "Membre n°1  TIC : Technologies de l`information et de la c...      BDTN   \n",
       "Membre n°2                  GET : Génie électrique et énergie    IA DES   \n",
       "Membre n°3  TIC : Technologies de l`information et de la c...      BDTN   \n",
       "Membre n°4  TIC : Technologies de l`information et de la c...      BDTN   \n",
       "Membre n°5  TIC : Technologies de l`information et de la c...       ISN   \n",
       "Membre n°6                  GET : Génie électrique et énergie       GET   \n",
       "\n",
       "                   Nom       Prenom  \n",
       "Membre n°1    TAMBOURA         Aida  \n",
       "Membre n°2      ARNAUD    Alexandre  \n",
       "Membre n°3    JOUJOUTE  Jean-Benoit  \n",
       "Membre n°4   MIKPONWAY          Ian  \n",
       "Membre n°5    DA SILVA      Saobane  \n",
       "Membre n°6  HOUNSONLON      Maickel  "
      ]
     },
     "execution_count": 22,
     "metadata": {},
     "output_type": "execute_result"
    }
   ],
   "source": [
    "GroupePing = pd.DataFrame([pingP1,pingP2 , pingP3, pingP4, pingP5,pingP6], \n",
    "                          index = ['Membre n°1' ,'Membre n°2' , 'Membre n°3', 'Membre n°4','Membre n°5' ,'Membre n°6'])\n",
    "GroupePing"
   ]
  },
  {
   "cell_type": "markdown",
   "metadata": {},
   "source": [
    "####  Question 5\n",
    "Je fais le pourcentage de dominante présentes dans mon groupe PING"
   ]
  },
  {
   "cell_type": "code",
   "execution_count": 24,
   "metadata": {
    "collapsed": false
   },
   "outputs": [
    {
     "data": {
      "text/plain": [
       "Departement\n",
       "GET : Génie électrique et énergie                             33.333333\n",
       "TIC : Technologies de l`information et de la communication    66.666667\n",
       "dtype: float64"
      ]
     },
     "execution_count": 24,
     "metadata": {},
     "output_type": "execute_result"
    }
   ],
   "source": [
    "PourcentageDom=GroupePing.groupby('Departement').size()*100/6\n",
    "PourcentageDom"
   ]
  }
 ],
 "metadata": {
  "anaconda-cloud": {},
  "kernelspec": {
   "display_name": "Python [default]",
   "language": "python",
   "name": "python3"
  },
  "language_info": {
   "codemirror_mode": {
    "name": "ipython",
    "version": 3
   },
   "file_extension": ".py",
   "mimetype": "text/x-python",
   "name": "python",
   "nbconvert_exporter": "python",
   "pygments_lexer": "ipython3",
   "version": "3.5.2"
  }
 },
 "nbformat": 4,
 "nbformat_minor": 1
}
